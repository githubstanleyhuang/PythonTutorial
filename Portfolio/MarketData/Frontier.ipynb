{
 "cells": [
  {
   "cell_type": "code",
   "execution_count": null,
   "metadata": {},
   "outputs": [],
   "source": [
    "import datetime as dt\n",
    "import yfinance as yf\n",
    "import matplotlib.pyplot as plt\n",
    "import pandas as pd\n",
    "import numpy as np\n",
    "#####################"
   ]
  },
  {
   "cell_type": "code",
   "execution_count": null,
   "metadata": {},
   "outputs": [],
   "source": [
    "# Get the data for the stock AAPL\n",
    "today = dt.datetime.now().date()\n",
    "data = yf.download(['AAPL','AMZN'],'2016-01-01',today)\n",
    "# Plot the close price of the AAPL\n",
    "#data['Adj Close'].plot()\n",
    "df_ret = data['Adj Close'].pct_change()\n",
    "\n",
    "df_ret.plot()\n"
   ]
  },
  {
   "cell_type": "code",
   "execution_count": null,
   "metadata": {},
   "outputs": [],
   "source": [
    "df_scenario = pd.DataFrame(columns=['Scenario', 'Weight of AAPL', 'Weight of AMZN'])\n",
    "df_scenario['Scenario'] = range(1,101)\n",
    "df_scenario['Weight of AAPL'] = df_scenario['Scenario']/len(df_scenario)\n",
    "df_scenario['Weight of AMZN'] = 1- df_scenario['Scenario']/len(df_scenario)"
   ]
  }
 ],
 "metadata": {
  "language_info": {
   "name": "python"
  }
 },
 "nbformat": 4,
 "nbformat_minor": 2
}
